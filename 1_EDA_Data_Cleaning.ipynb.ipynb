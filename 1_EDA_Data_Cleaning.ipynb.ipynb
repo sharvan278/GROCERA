{
 "cells": [
  {
   "cell_type": "code",
   "execution_count": 1,
   "id": "d6475625-0b54-46d1-be70-935d2f3602b9",
   "metadata": {},
   "outputs": [
    {
     "data": {
      "text/html": [
       "<div>\n",
       "<style scoped>\n",
       "    .dataframe tbody tr th:only-of-type {\n",
       "        vertical-align: middle;\n",
       "    }\n",
       "\n",
       "    .dataframe tbody tr th {\n",
       "        vertical-align: top;\n",
       "    }\n",
       "\n",
       "    .dataframe thead th {\n",
       "        text-align: right;\n",
       "    }\n",
       "</style>\n",
       "<table border=\"1\" class=\"dataframe\">\n",
       "  <thead>\n",
       "    <tr style=\"text-align: right;\">\n",
       "      <th></th>\n",
       "      <th>Item Name</th>\n",
       "      <th>Store Name</th>\n",
       "      <th>Price</th>\n",
       "      <th>Stock Status</th>\n",
       "      <th>Expiration Date</th>\n",
       "    </tr>\n",
       "  </thead>\n",
       "  <tbody>\n",
       "    <tr>\n",
       "      <th>0</th>\n",
       "      <td>Cheese</td>\n",
       "      <td>Amazon</td>\n",
       "      <td>4.37</td>\n",
       "      <td>Low Stock</td>\n",
       "      <td>NaN</td>\n",
       "    </tr>\n",
       "    <tr>\n",
       "      <th>1</th>\n",
       "      <td>Cheese</td>\n",
       "      <td>Amazon</td>\n",
       "      <td>9.56</td>\n",
       "      <td>Out of Stock</td>\n",
       "      <td>18-04-2025</td>\n",
       "    </tr>\n",
       "    <tr>\n",
       "      <th>2</th>\n",
       "      <td>Banana</td>\n",
       "      <td>Target</td>\n",
       "      <td>7.59</td>\n",
       "      <td>Low Stock</td>\n",
       "      <td>23-04-2025</td>\n",
       "    </tr>\n",
       "    <tr>\n",
       "      <th>3</th>\n",
       "      <td>Tomato</td>\n",
       "      <td>Kroger</td>\n",
       "      <td>6.39</td>\n",
       "      <td>Low Stock</td>\n",
       "      <td>01-04-2025</td>\n",
       "    </tr>\n",
       "    <tr>\n",
       "      <th>4</th>\n",
       "      <td>Tomato</td>\n",
       "      <td>Walmart</td>\n",
       "      <td>2.40</td>\n",
       "      <td>In Stock</td>\n",
       "      <td>22-04-2025</td>\n",
       "    </tr>\n",
       "  </tbody>\n",
       "</table>\n",
       "</div>"
      ],
      "text/plain": [
       "  Item Name Store Name  Price  Stock Status Expiration Date\n",
       "0    Cheese     Amazon   4.37     Low Stock             NaN\n",
       "1    Cheese     Amazon   9.56  Out of Stock      18-04-2025\n",
       "2    Banana     Target   7.59     Low Stock      23-04-2025\n",
       "3    Tomato     Kroger   6.39     Low Stock      01-04-2025\n",
       "4    Tomato    Walmart   2.40      In Stock      22-04-2025"
      ]
     },
     "execution_count": 1,
     "metadata": {},
     "output_type": "execute_result"
    }
   ],
   "source": [
    "import pandas as pd\n",
    "\n",
    "# Load dataset\n",
    "df = pd.read_csv(\"uploads/noisy_grocery_data.csv\")\n",
    "\n",
    "# Show first 5 rows\n",
    "df.head()\n"
   ]
  },
  {
   "cell_type": "code",
   "execution_count": 2,
   "id": "75f2c977-b797-408d-ac0b-942f039b0917",
   "metadata": {},
   "outputs": [
    {
     "data": {
      "text/plain": [
       "Item Name           object\n",
       "Store Name          object\n",
       "Price              float64\n",
       "Stock Status        object\n",
       "Expiration Date     object\n",
       "dtype: object"
      ]
     },
     "execution_count": 2,
     "metadata": {},
     "output_type": "execute_result"
    }
   ],
   "source": [
    "# Check missing values\n",
    "df.isnull().sum()\n",
    "\n",
    "# Check duplicate rows\n",
    "df.duplicated().sum()\n",
    "\n",
    "# Check data types\n",
    "df.dtypes\n"
   ]
  },
  {
   "cell_type": "code",
   "execution_count": 3,
   "id": "72164121-3d8e-49e4-b893-3cf027a14dfb",
   "metadata": {},
   "outputs": [
    {
     "name": "stderr",
     "output_type": "stream",
     "text": [
      "C:\\Users\\narap\\AppData\\Local\\Temp\\ipykernel_32032\\4046642926.py:5: FutureWarning: A value is trying to be set on a copy of a DataFrame or Series through chained assignment using an inplace method.\n",
      "The behavior will change in pandas 3.0. This inplace method will never work because the intermediate object on which we are setting values always behaves as a copy.\n",
      "\n",
      "For example, when doing 'df[col].method(value, inplace=True)', try using 'df.method({col: value}, inplace=True)' or df[col] = df[col].method(value) instead, to perform the operation inplace on the original object.\n",
      "\n",
      "\n",
      "  df[\"Price\"].fillna(df[\"Price\"].median(), inplace=True)\n"
     ]
    }
   ],
   "source": [
    "# Drop rows where Store Name is missing\n",
    "df = df.dropna(subset=[\"Store Name\"])\n",
    "\n",
    "# Fill missing Price with the median price\n",
    "df[\"Price\"].fillna(df[\"Price\"].median(), inplace=True)\n"
   ]
  },
  {
   "cell_type": "code",
   "execution_count": 4,
   "id": "a1948449-710d-4784-8fed-a41709f85ae1",
   "metadata": {},
   "outputs": [],
   "source": [
    "df = df.drop_duplicates()\n"
   ]
  },
  {
   "cell_type": "code",
   "execution_count": 5,
   "id": "a6c9d75f-e91d-46e3-85e8-450fe62974f5",
   "metadata": {},
   "outputs": [
    {
     "name": "stderr",
     "output_type": "stream",
     "text": [
      "C:\\Users\\narap\\AppData\\Local\\Temp\\ipykernel_32032\\2442871384.py:2: UserWarning: Parsing dates in %d-%m-%Y format when dayfirst=False (the default) was specified. Pass `dayfirst=True` or specify a format to silence this warning.\n",
      "  df[\"Expiration Date\"] = pd.to_datetime(df[\"Expiration Date\"], errors=\"coerce\")\n",
      "C:\\Users\\narap\\AppData\\Local\\Temp\\ipykernel_32032\\2442871384.py:5: FutureWarning: A value is trying to be set on a copy of a DataFrame or Series through chained assignment using an inplace method.\n",
      "The behavior will change in pandas 3.0. This inplace method will never work because the intermediate object on which we are setting values always behaves as a copy.\n",
      "\n",
      "For example, when doing 'df[col].method(value, inplace=True)', try using 'df.method({col: value}, inplace=True)' or df[col] = df[col].method(value) instead, to perform the operation inplace on the original object.\n",
      "\n",
      "\n",
      "  df[\"Expiration Date\"].fillna(pd.Timestamp.today() + pd.Timedelta(days=30), inplace=True)\n"
     ]
    }
   ],
   "source": [
    "# Convert 'Expiration Date' to datetime format, handling errors\n",
    "df[\"Expiration Date\"] = pd.to_datetime(df[\"Expiration Date\"], errors=\"coerce\")\n",
    "\n",
    "# Fill missing expiration dates with a default future date (e.g., 30 days from today)\n",
    "df[\"Expiration Date\"].fillna(pd.Timestamp.today() + pd.Timedelta(days=30), inplace=True)\n"
   ]
  },
  {
   "cell_type": "code",
   "execution_count": 6,
   "id": "a14358b5-fe42-4d9b-a349-2d9539b02de8",
   "metadata": {},
   "outputs": [
    {
     "name": "stdout",
     "output_type": "stream",
     "text": [
      "✅ Cleaned Data Saved Successfully!\n"
     ]
    }
   ],
   "source": [
    "df.to_csv(\"uploads/cleaned_grocery_data.csv\", index=False)\n",
    "print(\"✅ Cleaned Data Saved Successfully!\")\n"
   ]
  },
  {
   "cell_type": "code",
   "execution_count": 7,
   "id": "d2ecc1fc-17b4-438b-a39b-021dc1516621",
   "metadata": {},
   "outputs": [
    {
     "data": {
      "text/html": [
       "<div>\n",
       "<style scoped>\n",
       "    .dataframe tbody tr th:only-of-type {\n",
       "        vertical-align: middle;\n",
       "    }\n",
       "\n",
       "    .dataframe tbody tr th {\n",
       "        vertical-align: top;\n",
       "    }\n",
       "\n",
       "    .dataframe thead th {\n",
       "        text-align: right;\n",
       "    }\n",
       "</style>\n",
       "<table border=\"1\" class=\"dataframe\">\n",
       "  <thead>\n",
       "    <tr style=\"text-align: right;\">\n",
       "      <th></th>\n",
       "      <th>Item Name</th>\n",
       "      <th>Store Name</th>\n",
       "      <th>Price</th>\n",
       "      <th>Stock Status</th>\n",
       "      <th>Expiration Date</th>\n",
       "    </tr>\n",
       "  </thead>\n",
       "  <tbody>\n",
       "    <tr>\n",
       "      <th>0</th>\n",
       "      <td>Cheese</td>\n",
       "      <td>Amazon</td>\n",
       "      <td>4.37</td>\n",
       "      <td>Low Stock</td>\n",
       "      <td>2025-04-27 10:12:16.663447</td>\n",
       "    </tr>\n",
       "    <tr>\n",
       "      <th>1</th>\n",
       "      <td>Cheese</td>\n",
       "      <td>Amazon</td>\n",
       "      <td>9.56</td>\n",
       "      <td>Out of Stock</td>\n",
       "      <td>2025-04-18 00:00:00.000000</td>\n",
       "    </tr>\n",
       "    <tr>\n",
       "      <th>2</th>\n",
       "      <td>Banana</td>\n",
       "      <td>Target</td>\n",
       "      <td>7.59</td>\n",
       "      <td>Low Stock</td>\n",
       "      <td>2025-04-23 00:00:00.000000</td>\n",
       "    </tr>\n",
       "    <tr>\n",
       "      <th>3</th>\n",
       "      <td>Tomato</td>\n",
       "      <td>Kroger</td>\n",
       "      <td>6.39</td>\n",
       "      <td>Low Stock</td>\n",
       "      <td>2025-04-01 00:00:00.000000</td>\n",
       "    </tr>\n",
       "    <tr>\n",
       "      <th>4</th>\n",
       "      <td>Tomato</td>\n",
       "      <td>Walmart</td>\n",
       "      <td>2.40</td>\n",
       "      <td>In Stock</td>\n",
       "      <td>2025-04-22 00:00:00.000000</td>\n",
       "    </tr>\n",
       "  </tbody>\n",
       "</table>\n",
       "</div>"
      ],
      "text/plain": [
       "  Item Name Store Name  Price  Stock Status             Expiration Date\n",
       "0    Cheese     Amazon   4.37     Low Stock  2025-04-27 10:12:16.663447\n",
       "1    Cheese     Amazon   9.56  Out of Stock  2025-04-18 00:00:00.000000\n",
       "2    Banana     Target   7.59     Low Stock  2025-04-23 00:00:00.000000\n",
       "3    Tomato     Kroger   6.39     Low Stock  2025-04-01 00:00:00.000000\n",
       "4    Tomato    Walmart   2.40      In Stock  2025-04-22 00:00:00.000000"
      ]
     },
     "execution_count": 7,
     "metadata": {},
     "output_type": "execute_result"
    }
   ],
   "source": [
    "# Load the cleaned dataset to verify\n",
    "df_cleaned = pd.read_csv(\"uploads/cleaned_grocery_data.csv\")\n",
    "df_cleaned.head()\n"
   ]
  },
  {
   "cell_type": "code",
   "execution_count": 9,
   "id": "6ad1bd3b-94dd-462f-925c-4f180eaeb86f",
   "metadata": {},
   "outputs": [
    {
     "data": {
      "image/png": "[encoded data removed]",
      "text/plain": [
       "<Figure size 800x500 with 1 Axes>"
      ]
     },
     "metadata": {},
     "output_type": "display_data"
    }
   ],
   "source": [
    "import matplotlib.pyplot as plt\n",
    "import seaborn as sns\n",
    "\n",
    "# Price Distribution\n",
    "plt.figure(figsize=(8,5))\n",
    "sns.histplot(df_cleaned[\"Price\"], bins=30, kde=True)\n",
    "plt.title(\"Price Distribution\")\n",
    "plt.xlabel(\"Price\")\n",
    "plt.ylabel(\"Count\")\n",
    "plt.show()\n",
    "\n",
    "# # Stock Status Distribution\n",
    "# plt.figure(figsize=(6,4))\n",
    "# sns.countplot(x=\"Stock Status\", data=df_cleaned, order=df_cleaned[\"Stock Status\"].value_counts().index)\n",
    "# plt.title(\"Stock Status Distribution\")\n",
    "# plt.xticks(rotation=45)\n",
    "# plt.show()\n",
    "\n",
    "# # Expiring Soon Analysis\n",
    "# plt.figure(figsize=(6,4))\n",
    "# sns.countplot(x=\"Expiring Soon\", data=df_cleaned)\n",
    "# plt.title(\"Products Expiring Soon\")\n",
    "# plt.show()\n",
    "\n",
    "# # Correlation Heatmap\n",
    "# plt.figure(figsize=(10,6))\n",
    "# sns.heatmap(df_cleaned.corr(), annot=True, cmap=\"coolwarm\", fmt=\".2f\")\n",
    "# plt.title(\"Feature Correlation Heatmap\")\n",
    "# plt.show()\n"
   ]
  },
  {
   "cell_type": "code",
   "execution_count": null,
   "id": "db28f0e3-01bb-4303-a102-12468bcc5b24",
   "metadata": {},
   "outputs": [],
   "source": []
  }
 ],
 "metadata": {
  "kernelspec": {
   "display_name": "Python 3 (ipykernel)",
   "language": "python",
   "name": "python3"
  },
  "language_info": {
   "codemirror_mode": {
    "name": "ipython",
    "version": 3
   },
   "file_extension": ".py",
   "mimetype": "text/x-python",
   "name": "python",
   "nbconvert_exporter": "python",
   "pygments_lexer": "ipython3",
   "version": "3.12.6"
  }
 },
 "nbformat": 4,
 "nbformat_minor": 5
}
